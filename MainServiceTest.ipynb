{
 "cells": [
  {
   "cell_type": "code",
   "execution_count": 3,
   "metadata": {},
   "outputs": [],
   "source": [
    "#this sets up a tester Main service class with constant file data instead of taking time to download from all sources"
   ]
  },
  {
   "cell_type": "code",
   "execution_count": 1,
   "metadata": {},
   "outputs": [
    {
     "name": "stdout",
     "output_type": "stream",
     "text": [
      "Collecting data...\n",
      "---------------------------------------------------------------------------\n",
      "Data Collection Succesful.\n",
      "TimeSeries dictionary has 9328 entries.\n",
      "Correlator initialized.\n"
     ]
    }
   ],
   "source": [
    "import json\n",
    "from MainService import MainService\n",
    "with open('jsondata/allcleandata.json','r') as f:\n",
    "    data = f.read()\n",
    "allCleanData = json.loads(data)\n",
    "with open('jsondata/allcleannames.json','r') as f:\n",
    "    data = f.read()\n",
    "allCleanNames = json.loads(data)\n",
    "m = MainService(allCleanData, allCleanNames)"
   ]
  },
  {
   "cell_type": "code",
   "execution_count": null,
   "metadata": {},
   "outputs": [],
   "source": [
    "#This will search the database for matching series titles"
   ]
  },
  {
   "cell_type": "code",
   "execution_count": 82,
   "metadata": {},
   "outputs": [
    {
     "data": {
      "text/plain": [
       "{'Dow Jones Industrial Average'}"
      ]
     },
     "execution_count": 82,
     "metadata": {},
     "output_type": "execute_result"
    }
   ],
   "source": [
    "m.queryNames(\"DOW\")"
   ]
  },
  {
   "cell_type": "code",
   "execution_count": 54,
   "metadata": {},
   "outputs": [],
   "source": [
    "#This shows the highest correlated commodities as well as plots the timeseriesdata"
   ]
  },
  {
   "cell_type": "code",
   "execution_count": 86,
   "metadata": {},
   "outputs": [
    {
     "name": "stdout",
     "output_type": "stream",
     "text": [
      "PPI Commodity data for Transportation services-Shipping services (competitive services) not seasonally adjusted\n",
      "PPI industry data for U.S. Postal Service-Shipping services (competitive services) not seasonally adjusted\n",
      "PPI industry data for Jewelry and silverware mfg-All other jewelry and personal goods (excluding costume) not seasonally adjusted\n",
      "PPI industry data for Textile bag and canvas mills-Miscellaneous receipts not seasonally adjusted\n",
      "PPI industry data for Cut and sew apparel contractors-Primary products not seasonally adjusted\n"
     ]
    },
    {
     "data": {
      "image/png": "[encoded data removed]",
      "text/plain": [
       "<Figure size 432x288 with 1 Axes>"
      ]
     },
     "metadata": {},
     "output_type": "display_data"
    }
   ],
   "source": [
    "search = 'PPI industry data for Oil and gas field machinery and equipment mfg-Oil and gas field derricks and well surveying machinery not seasonally adjusted'\n",
    "names = []\n",
    "highest = m.findFiveHighestCorrelated(search)\n",
    "names.append(m.getIdFromName(search))\n",
    "for i in highest:\n",
    "    print(m.getNameFromId(i[0]))\n",
    "    names.append(i[0])\n",
    "plotTimeSeries(names)"
   ]
  },
  {
   "cell_type": "code",
   "execution_count": 50,
   "metadata": {},
   "outputs": [],
   "source": [
    "import matplotlib.pyplot as plt\n",
    "def plotTimeSeries(Ids):\n",
    "    for Id in Ids:\n",
    "        x = list(m.TimeSeries[Id].keys())\n",
    "        y = list(m.TimeSeries[Id].values())\n",
    "        plt.plot(x,y)\n",
    "    plt.show()\n",
    "\n",
    "    "
   ]
  },
  {
   "cell_type": "code",
   "execution_count": 87,
   "metadata": {},
   "outputs": [
    {
     "name": "stdout",
     "output_type": "stream",
     "text": [
      "[('WPU30160108', 0.46201745372340397), ('PCU4911104911108', 0.46201745372340397), ('PCU3399103399108', 0.42704176442286573), ('PCU314910314910M', 0.3807644643214974), ('PCU315210315210P', 0.3767289964405774)]\n"
     ]
    }
   ],
   "source": [
    "print(highest)"
   ]
  },
  {
   "cell_type": "code",
   "execution_count": 48,
   "metadata": {},
   "outputs": [
    {
     "name": "stdout",
     "output_type": "stream",
     "text": [
      "{'01/1967': 23.0, '02/1967': 22.6, '03/1967': 22.3, '04/1967': 21.7, '05/1967': 21.9, '06/1967': 22.2, '07/1967': 22.2, '08/1967': 22.2, '09/1967': 22.2, '10/1967': 22.3, '11/1967': 22.7, '12/1967': 22.9, '01/1968': 22.7, '02/1968': 22.7, '03/1968': 23.0, '04/1968': 22.3, '05/1968': 22.0, '06/1968': 22.2, '07/1968': 22.5, '08/1968': 22.5, '09/1968': 22.6, '10/1968': 23.0, '11/1968': 23.1, '12/1968': 23.2, '01/1969': 23.4, '02/1969': 23.3, '03/1969': 23.9, '04/1969': 24.4, '05/1969': 24.8, '06/1969': 25.2, '07/1969': 25.6, '08/1969': 26.2, '09/1969': 26.5, '10/1969': 26.5, '11/1969': 26.5, '12/1969': 26.7, '01/1970': 26.8, '02/1970': 27.1, '03/1970': 27.0, '04/1970': 26.8, '05/1970': 26.8, '06/1970': 26.6, '07/1970': 26.2, '08/1970': 25.6, '09/1970': 25.9, '10/1970': 26.1, '11/1970': 25.2, '12/1970': 25.8, '01/1971': 25.9, '02/1971': 25.8, '03/1971': 25.4, '04/1971': 25.8, '05/1971': 25.7, '06/1971': 25.6, '07/1971': 25.9, '08/1971': 25.6, '09/1971': 25.8, '10/1971': 25.9, '11/1971': 25.8, '12/1971': 26.1, '01/1972': 26.1, '02/1972': 26.1, '03/1972': 26.7, '04/1972': 26.6, '05/1972': 26.9, '06/1972': 27.1, '07/1972': 27.5, '08/1972': 28.1, '09/1972': 28.3, '10/1972': 28.8, '11/1972': 29.2, '12/1972': 29.6, '01/1973': 30.2, '02/1973': 30.5, '03/1973': 30.4, '04/1973': 31.3, '05/1973': 32.4, '06/1973': 33.7, '07/1973': 34.3, '08/1973': 35.0, '09/1973': 36.5, '10/1973': 38.2, '11/1973': 41.4, '12/1973': 43.6, '01/1974': 45.9, '02/1974': 49.6, '03/1974': 52.4, '04/1974': 54.8, '05/1974': 51.6, '06/1974': 51.6, '07/1974': 55.5, '08/1974': 54.7, '09/1974': 54.3, '10/1974': 53.6, '11/1974': 52.8, '12/1974': 48.9, '01/1975': 47.3, '02/1975': 46.7, '03/1975': 46.2, '04/1975': 46.1, '05/1975': 46.5, '06/1975': 47.2, '07/1975': 45.9, '08/1975': 47.5, '09/1975': 49.8, '10/1975': 49.4, '11/1975': 49.5, '12/1975': 50.2, '01/1976': 50.7, '02/1976': 48.5, '03/1976': 49.3, '04/1976': 50.9, '05/1976': 51.3, '06/1976': 51.5, '07/1976': 53.4, '08/1976': 52.7, '09/1976': 52.5, '10/1976': 52.0, '11/1976': 51.9, '12/1976': 52.2, '01/1977': 51.7, '02/1977': 52.2, '03/1977': 52.7, '04/1977': 52.9, '05/1977': 53.4, '06/1977': 52.7, '07/1977': 52.6, '08/1977': 53.0, '09/1977': 53.4, '10/1977': 53.5, '11/1977': 53.7, '12/1977': 55.2, '01/1978': 55.2, '02/1978': 55.0, '03/1978': 55.3, '04/1978': 56.3, '05/1978': 57.3, '06/1978': 58.9, '07/1978': 60.0, '08/1978': 60.3, '09/1978': 61.4, '10/1978': 62.5, '11/1978': 63.6, '12/1978': 63.7, '01/1979': 64.0, '02/1979': 66.0, '03/1979': 69.1, '04/1979': 69.6, '05/1979': 70.8, '06/1979': 74.6, '07/1979': 75.1, '08/1979': 74.9, '09/1979': 78.1, '10/1979': 80.4, '11/1979': 82.6, '12/1979': 84.2, '01/1980': 87.8, '02/1980': 88.6, '03/1980': 88.3, '04/1980': 87.7, '05/1980': 86.7, '06/1980': 87.3, '07/1980': 88.7, '08/1980': 91.2, '09/1980': 92.9, '10/1980': 95.1, '11/1980': 97.5, '12/1980': 99.7, '01/1981': 103.4, '02/1981': 112.3, '03/1981': 113.7, '04/1981': 115.1, '05/1981': 116.3, '06/1981': 114.7, '07/1981': 113.5, '08/1981': 113.2, '09/1981': 112.5, '10/1981': 110.4, '11/1981': 108.9, '12/1981': 108.3, '01/1982': 105.6, '02/1982': 103.7, '03/1982': 101.1, '04/1982': 99.3, '05/1982': 99.7, '06/1982': 99.3, '07/1982': 99.4, '08/1982': 98.4, '09/1982': 98.2, '10/1982': 98.8, '11/1982': 98.0, '12/1982': 96.4, '01/1983': 96.0, '02/1983': 95.0, '03/1983': 95.3, '04/1983': 96.2, '05/1983': 97.1, '06/1983': 98.4, '07/1983': 99.1, '08/1983': 99.6, '09/1983': 99.4, '10/1983': 99.0, '11/1983': 99.1, '12/1983': 98.9, '01/1984': 99.4, '02/1984': 101.2, '03/1984': 102.8, '04/1984': 103.4, '05/1984': 103.4, '06/1984': 102.8, '07/1984': 101.4, '08/1984': 99.8, '09/1984': 99.4, '10/1984': 97.6, '11/1984': 95.8, '12/1984': 94.4, '01/1985': 93.1, '02/1985': 92.6, '03/1985': 93.7, '04/1985': 94.2, '05/1985': 93.7, '06/1985': 92.1, '07/1985': 92.2, '08/1985': 91.9, '09/1985': 91.4, '10/1985': 91.3, '11/1985': 91.3, '12/1985': 91.3, '01/1986': 90.6, '02/1986': 81.0, '03/1986': 71.3, '04/1986': 67.3, '05/1986': 66.7, '06/1986': 67.2, '07/1986': 65.0, '08/1986': 64.4, '09/1986': 68.4, '10/1986': 67.9, '11/1986': 68.2, '12/1986': 67.9, '01/1987': 74.1, '02/1987': 76.8, '03/1987': 78.5, '04/1987': 79.9, '05/1987': 82.0, '06/1987': 83.8, '07/1987': 87.2, '08/1987': 88.8, '09/1987': 85.5, '10/1987': 85.9, '11/1987': 86.0, '12/1987': 83.3, '01/1988': 78.9, '02/1988': 81.4, '03/1988': 81.3, '04/1988': 83.4, '05/1988': 84.9, '06/1988': 84.2, '07/1988': 80.1, '08/1988': 79.4, '09/1988': 75.5, '10/1988': 71.8, '11/1988': 72.8, '12/1988': 79.2, '01/1989': 82.7, '02/1989': 84.6, '03/1989': 89.5, '04/1989': 94.0, '05/1989': 93.2, '06/1989': 91.8, '07/1989': 91.8, '08/1989': 86.2, '09/1989': 86.5, '10/1989': 87.1, '11/1989': 86.9, '12/1989': 90.9, '01/1990': 94.2, '02/1990': 93.9, '03/1990': 90.3, '04/1990': 84.7, '05/1990': 86.8, '06/1990': 80.8, '07/1990': 79.5, '08/1990': 105.0, '09/1990': 118.6, '10/1990': 141.4, '11/1990': 122.7, '12/1990': 106.8, '01/1991': 114.2, '02/1991': 93.4, '03/1991': 84.0, '04/1991': 85.9, '05/1991': 87.5, '06/1991': 84.2, '07/1991': 86.8, '08/1991': 88.0, '09/1991': 87.7, '10/1991': 92.7, '11/1991': 90.6, '12/1991': 82.5, '01/1992': 79.2, '02/1992': 81.6, '03/1992': 80.2, '04/1992': 84.6, '05/1992': 87.1, '06/1992': 91.1, '07/1992': 89.4, '08/1992': 88.4, '09/1992': 90.2, '10/1992': 90.0, '11/1992': 85.6, '12/1992': 83.1, '01/1993': 83.0, '02/1993': 86.2, '03/1993': 87.6, '04/1993': 87.4, '05/1993': 87.7, '06/1993': 84.2, '07/1993': 82.8, '08/1993': 81.2, '09/1993': 80.3, '10/1993': 85.2, '11/1993': 81.0, '12/1993': 75.5, '01/1994': 76.4, '02/1994': 75.7, '03/1994': 77.7, '04/1994': 80.0, '05/1994': 84.4, '06/1994': 87.9, '07/1994': 92.5, '08/1994': 92.2, '09/1994': 88.2, '10/1994': 89.6, '11/1994': 91.0, '12/1994': 90.1, '01/1995': 91.9, '02/1995': 94.8, '03/1995': 95.0, '04/1995': 99.5, '05/1995': 99.6, '06/1995': 97.1, '07/1995': 92.7, '08/1995': 92.8, '09/1995': 93.2, '10/1995': 89.6, '11/1995': 88.6, '12/1995': 90.7, '01/1996': 92.4, '02/1996': 90.9, '03/1996': 93.2, '04/1996': 97.5, '05/1996': 95.3, '06/1996': 91.9, '07/1996': 92.0, '08/1996': 93.6, '09/1996': 96.3, '10/1996': 99.1, '11/1996': 97.4, '12/1996': 98.6, '01/1997': 102.1, '02/1997': 96.6, '03/1997': 92.4, '04/1997': 92.2, '05/1997': 93.9, '06/1997': 89.2, '07/1997': 90.4, '08/1997': 91.1, '09/1997': 89.9, '10/1997': 92.3, '11/1997': 91.5, '12/1997': 88.4, '01/1998': 82.0, '02/1998': 81.7, '03/1998': 76.4, '04/1998': 77.7, '05/1998': 77.2, '06/1998': 73.7, '07/1998': 74.3, '08/1998': 69.2, '09/1998': 71.8, '10/1998': 69.9, '11/1998': 67.3, '12/1998': 62.5, '01/1999': 65.1, '02/1999': 63.3, '03/1999': 67.3, '04/1999': 73.5, '05/1999': 77.4, '06/1999': 79.0, '07/1999': 83.3, '08/1999': 86.3, '09/1999': 92.6, '10/1999': 91.1, '11/1999': 95.7, '12/1999': 99.7, '01/2000': 101.4, '02/2000': 108.9, '03/2000': 110.7, '04/2000': 99.5, '05/2000': 105.4, '06/2000': 111.0, '07/2000': 106.0, '08/2000': 108.9, '09/2000': 114.5, '10/2000': 111.4, '11/2000': 114.1, '12/2000': 100.9, '01/2001': 98.5, '02/2001': 101.1, '03/2001': 96.2, '04/2001': 96.6, '05/2001': 98.5, '06/2001': 97.7, '07/2001': 94.7, '08/2001': 93.9, '09/2001': 94.3, '10/2001': 83.2, '11/2001': 79.2, '12/2001': 75.1, '01/2002': 77.2, '02/2002': 80.4, '03/2002': 87.4, '04/2002': 91.7, '05/2002': 96.8, '06/2002': 90.9, '07/2002': 94.0, '08/2002': 96.2, '09/2002': 98.9, '10/2002': 98.3, '11/2002': 93.3, '12/2002': 96.2, '01/2003': 104.3, '02/2003': 110.8, '03/2003': 111.4, '04/2003': 100.7, '05/2003': 99.8, '06/2003': 104.3, '07/2003': 104.5, '08/2003': 106.9, '09/2003': 103.7, '10/2003': 108.4, '11/2003': 109.7, '12/2003': 114.0, '01/2004': 121.7, '02/2004': 126.2, '03/2004': 132.3, '04/2004': 131.6, '05/2004': 131.4, '06/2004': 127.3, '07/2004': 138.3, '08/2004': 148.3, '09/2004': 145.8, '10/2004': 160.4, '11/2004': 154.3, '12/2004': 144.4, '01/2005': 149.1, '02/2005': 150.0, '03/2005': 161.3, '04/2005': 159.1, '05/2005': 154.7, '06/2005': 158.3, '07/2005': 166.5, '08/2005': 176.8, '09/2005': 180.7, '10/2005': 178.5, '11/2005': 172.5, '12/2005': 178.5, '01/2006': 191.1, '02/2006': 188.7, '03/2006': 188.4, '04/2006': 200.9, '05/2006': 209.7, '06/2006': 204.4, '07/2006': 206.5, '08/2006': 203.2, '09/2006': 196.5, '10/2006': 189.4, '11/2006': 191.3, '12/2006': 201.9, '01/2007': 197.0, '02/2007': 208.2, '03/2007': 208.5, '04/2007': 211.0, '05/2007': 206.8, '06/2007': 209.8, '07/2007': 216.3, '08/2007': 219.1, '09/2007': 237.8, '10/2007': 252.4, '11/2007': 274.3, '12/2007': 279.9, '01/2008': 293.5, '02/2008': 302.8, '03/2008': 316.1, '04/2008': 329.2, '05/2008': 346.6, '06/2008': 355.8, '07/2008': 360.0, '08/2008': 330.2, '09/2008': 309.9, '10/2008': 245.5, '11/2008': 186.8, '12/2008': 161.3, '01/2009': 155.6, '02/2009': 158.1, '03/2009': 165.6, '04/2009': 167.4, '05/2009': 185.2, '06/2009': 206.3, '07/2009': 188.7, '08/2009': 216.1, '09/2009': 225.3, '10/2009': 238.2, '11/2009': 245.8, '12/2009': 247.8, '01/2010': 257.9, '02/2010': 250.5, '03/2010': 268.8, '04/2010': 279.2, '05/2010': 260.4, '06/2010': 255.6, '07/2010': 255.4, '08/2010': 262.1, '09/2010': 264.2, '10/2010': 279.0, '11/2010': 290.8, '12/2010': 300.3, '01/2011': 311.6, '02/2011': 308.8, '03/2011': 332.6, '04/2011': 353.2, '05/2011': 338.6, '06/2011': 333.6, '07/2011': 338.4, '08/2011': 315.7, '09/2011': 329.5, '10/2011': 319.4, '11/2011': 338.9, '12/2011': 327.5, '01/2012': 335.9, '02/2012': 337.6, '03/2012': 345.1, '04/2012': 337.9, '05/2012': 320.1, '06/2012': 294.4, '07/2012': 297.5, '08/2012': 315.4, '09/2012': 323.9, '10/2012': 312.2, '11/2012': 307.7, '12/2012': 306.9, '01/2013': 315.1, '02/2013': 316.8, '03/2013': 316.0, '04/2013': 314.8, '05/2013': 312.0, '06/2013': 310.4, '07/2013': 325.3, '08/2013': 325.7, '09/2013': 324.5, '10/2013': 312.2, '11/2013': 298.7, '12/2013': 305.9, '01/2014': 304.0, '02/2014': 315.8, '03/2014': 313.9, '04/2014': 320.2, '05/2014': 317.5, '06/2014': 318.6, '07/2014': 311.6, '08/2014': 304.9, '09/2014': 298.1, '10/2014': 275.1, '11/2014': 264.6, '12/2014': 238.5, '01/2015': 207.3, '02/2015': 206.3, '03/2015': 202.4, '04/2015': 211.3, '05/2015': 224.9, '06/2015': 224.5, '07/2015': 210.4, '08/2015': 187.9, '09/2015': 188.6, '10/2015': 187.3, '11/2015': 177.1, '12/2015': 164.2, '01/2016': 152.2, '02/2016': 149.5, '03/2016': 166.6, '04/2016': 178.7, '05/2016': 190.9, '06/2016': 197.0, '07/2016': 192.2, '08/2016': 189.5, '09/2016': 188.4, '10/2016': 196.0, '11/2016': 192.0, '12/2016': 207.6, '01/2017': 211.4, '02/2017': 215.4, '03/2017': 210.5, '04/2017': 215.1, '05/2017': 207.0, '06/2017': 205.0, '07/2017': 207.3, '08/2017': 212.6, '09/2017': 217.4, '10/2017': 218.4, '11/2017': 228.4, '12/2017': 233.2, '01/2018': 248.5, '02/2018': 243.4, '03/2018': 246.1, '04/2018': 254.9, '05/2018': 263.7, '06/2018': 257.2, '07/2018': 265.8, '08/2018': 252.1, '09/2018': 255.0, '10/2018': 262.8, '11/2018': 230.7, '12/2018': 217.9, '01/2019': 218.8, '02/2019': 216.7, '03/2019': 233.2, '04/2019': 247.0, '05/2019': 233.9}\n"
     ]
    }
   ],
   "source": [
    "print(m.TimeSeries['WPSID69215'])"
   ]
  },
  {
   "cell_type": "code",
   "execution_count": null,
   "metadata": {},
   "outputs": [],
   "source": []
  }
 ],
 "metadata": {
  "@webio": {
   "lastCommId": null,
   "lastKernelId": null
  },
  "kernelspec": {
   "display_name": "Python 3",
   "language": "python",
   "name": "python3"
  },
  "language_info": {
   "codemirror_mode": {
    "name": "ipython",
    "version": 3
   },
   "file_extension": ".py",
   "mimetype": "text/x-python",
   "name": "python",
   "nbconvert_exporter": "python",
   "pygments_lexer": "ipython3",
   "version": "3.6.5"
  }
 },
 "nbformat": 4,
 "nbformat_minor": 2
}
