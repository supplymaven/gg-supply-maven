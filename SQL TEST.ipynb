{
 "cells": [
  {
   "cell_type": "code",
   "execution_count": 1,
   "metadata": {},
   "outputs": [
    {
     "name": "stdout",
     "output_type": "stream",
     "text": [
      "Getting Mock data...\n",
      "---------------------------------------------------------------------------\n",
      "Data Collection Succesful.\n",
      "TimeSeries dictionary has 4686 entries.\n",
      "Initializing correlator with updated data\n"
     ]
    }
   ],
   "source": []
  },
  {
   "cell_type": "code",
   "execution_count": 2,
   "metadata": {},
   "outputs": [
    {
     "name": "stdout",
     "output_type": "stream",
     "text": [
      "Succesful SQL connection.\n",
      "Succesful SQL connection.\n",
      "Succesful SQL connection.\n",
      "INSERT INTO HighestCorrelations (Id,Id1,Corr1,Id2,Corr2,Id3,Corr3,Id4,Corr4,Id5,Corr5) VALUES (%s,%s,%s,%s,%s,%s,%s,%s,%s,%s,%s);\n",
      "Succesful SQL connection.\n",
      "INSERT INTO HighestCorrelations (Id,Id1,Corr1,Id2,Corr2,Id3,Corr3,Id4,Corr4,Id5,Corr5) VALUES (%s,%s,%s,%s,%s,%s,%s,%s,%s,%s,%s);\n",
      "Succesful SQL connection.\n",
      "INSERT INTO HighestCorrelations (Id,Id1,Corr1,Id2,Corr2,Id3,Corr3,Id4,Corr4,Id5,Corr5) VALUES (%s,%s,%s,%s,%s,%s,%s,%s,%s,%s,%s);\n",
      "Succesful SQL connection.\n",
      "INSERT INTO HighestCorrelations (Id,Id1,Corr1,Id2,Corr2,Id3,Corr3,Id4,Corr4,Id5,Corr5) VALUES (%s,%s,%s,%s,%s,%s,%s,%s,%s,%s,%s);\n",
      "Succesful SQL connection.\n",
      "INSERT INTO HighestCorrelations (Id,Id1,Corr1,Id2,Corr2,Id3,Corr3,Id4,Corr4,Id5,Corr5) VALUES (%s,%s,%s,%s,%s,%s,%s,%s,%s,%s,%s);\n",
      "Succesful SQL connection.\n",
      "INSERT INTO HighestCorrelations (Id,Id1,Corr1,Id2,Corr2,Id3,Corr3,Id4,Corr4,Id5,Corr5) VALUES (%s,%s,%s,%s,%s,%s,%s,%s,%s,%s,%s);\n",
      "Succesful SQL connection.\n",
      "INSERT INTO HighestCorrelations (Id,Id1,Corr1,Id2,Corr2,Id3,Corr3,Id4,Corr4,Id5,Corr5) VALUES (%s,%s,%s,%s,%s,%s,%s,%s,%s,%s,%s);\n",
      "Succesful SQL connection.\n",
      "INSERT INTO HighestCorrelations (Id,Id1,Corr1,Id2,Corr2,Id3,Corr3,Id4,Corr4,Id5,Corr5) VALUES (%s,%s,%s,%s,%s,%s,%s,%s,%s,%s,%s);\n",
      "Succesful SQL connection.\n",
      "INSERT INTO HighestCorrelations (Id,Id1,Corr1,Id2,Corr2,Id3,Corr3,Id4,Corr4,Id5,Corr5) VALUES (%s,%s,%s,%s,%s,%s,%s,%s,%s,%s,%s);\n",
      "Succesful SQL connection.\n",
      "INSERT INTO HighestCorrelations (Id,Id1,Corr1,Id2,Corr2,Id3,Corr3,Id4,Corr4,Id5,Corr5) VALUES (%s,%s,%s,%s,%s,%s,%s,%s,%s,%s,%s);\n",
      "Succesful SQL connection.\n",
      "INSERT INTO HighestCorrelations (Id,Id1,Corr1,Id2,Corr2,Id3,Corr3,Id4,Corr4,Id5,Corr5) VALUES (%s,%s,%s,%s,%s,%s,%s,%s,%s,%s,%s);\n",
      "Succesful SQL connection.\n",
      "INSERT INTO HighestCorrelations (Id,Id1,Corr1,Id2,Corr2,Id3,Corr3,Id4,Corr4,Id5,Corr5) VALUES (%s,%s,%s,%s,%s,%s,%s,%s,%s,%s,%s);\n"
     ]
    }
   ],
   "source": []
  },
  {
   "cell_type": "code",
   "execution_count": 2,
   "metadata": {},
   "outputs": [
    {
     "name": "stdout",
     "output_type": "stream",
     "text": [
      "Succesful SQL connection.\n",
      "Succesful SQL connection.\n"
     ]
    }
   ],
   "source": [
    "m.dropTable('HighestCorrelations')\n",
    "m.createTable('HighestCorrelations', ['Id','Id1', 'Corr1', 'Id2', 'Corr2', 'Id3', 'Corr3', 'Id4', 'Corr4', 'Id5', 'Corr5'])"
   ]
  },
  {
   "cell_type": "code",
   "execution_count": 3,
   "metadata": {},
   "outputs": [
    {
     "name": "stdout",
     "output_type": "stream",
     "text": [
      "Succesful SQL connection.\n",
      "INSERT INTO HighestCorrelations (Id,Id1,Corr1,Id2,Corr2,Id3,Corr3,Id4,Corr4,Id5,Corr5) VALUES (%s,%s,%s,%s,%s,%s,%s,%s,%s,%s,%s);\n"
     ]
    }
   ],
   "source": [
    "m.insertIntoTable('HighestCorrelations', ['Id','Id1', 'Corr1', 'Id2', 'Corr2', 'Id3', 'Corr3', 'Id4', 'Corr4', 'Id5', 'Corr5'] , ['WPU091203', 'WPU09120325', 0.9999929484300573, 'WPU09120125', 0.7884038230250947, 'WPU09120725', 0.7178238013955672, 'WPU091201', 0.6224936524353397, 'WPU101215', 0.6145450529649398])"
   ]
  },
  {
   "cell_type": "code",
   "execution_count": null,
   "metadata": {},
   "outputs": [],
   "source": []
  }
 ],
 "metadata": {
  "@webio": {
   "lastCommId": null,
   "lastKernelId": null
  },
  "kernelspec": {
   "display_name": "Python 3",
   "language": "python",
   "name": "python3"
  },
  "language_info": {
   "codemirror_mode": {
    "name": "ipython",
    "version": 3
   },
   "file_extension": ".py",
   "mimetype": "text/x-python",
   "name": "python",
   "nbconvert_exporter": "python",
   "pygments_lexer": "ipython3",
   "version": "3.6.5"
  }
 },
 "nbformat": 4,
 "nbformat_minor": 2
}
