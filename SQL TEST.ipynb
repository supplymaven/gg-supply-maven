{
 "cells": [
  {
   "cell_type": "code",
   "execution_count": 1,
   "metadata": {},
   "outputs": [],
   "source": [
    "from MainService import MainService\n",
    "m = MainService()"
   ]
  },
  {
   "cell_type": "code",
   "execution_count": 2,
   "metadata": {},
   "outputs": [
    {
     "name": "stdout",
     "output_type": "stream",
     "text": [
      "Making Small Database...\n",
      "https://download.bls.gov/pub/time.series/ei\n",
      "File 1/22: https://download.bls.gov/pub/time.series/\n",
      "File 2/22: https://download.bls.gov/pub/time.series/ei/ei.contacts\n",
      "File 3/22: https://download.bls.gov/pub/time.series/ei/ei.data.0.Current\n",
      "File 4/22: https://download.bls.gov/pub/time.series/ei/ei.data.01.BEAImport\n",
      "File 5/22: https://download.bls.gov/pub/time.series/ei/ei.data.02.BEAExport\n",
      "File 6/22: https://download.bls.gov/pub/time.series/ei/ei.data.03.NAICSImport\n",
      "File 7/22: https://download.bls.gov/pub/time.series/ei/ei.data.04.NAICSExport\n",
      "File 8/22: https://download.bls.gov/pub/time.series/ei/ei.data.05.HarmonizedImport\n",
      "File 9/22: https://download.bls.gov/pub/time.series/ei/ei.data.06.HarmonizedExport\n",
      "File 10/22: https://download.bls.gov/pub/time.series/ei/ei.data.07.LocalityofOrigin\n",
      "File 11/22: https://download.bls.gov/pub/time.series/ei/ei.data.08.LocalityofDestination\n",
      "File 12/22: https://download.bls.gov/pub/time.series/ei/ei.data.09.TermsofTrade\n",
      "File 13/22: https://download.bls.gov/pub/time.series/ei/ei.data.10.ServicesImport\n",
      "File 14/22: https://download.bls.gov/pub/time.series/ei/ei.data.11.ServicesExport\n",
      "File 15/22: https://download.bls.gov/pub/time.series/ei/ei.data.12.ServicesInbound\n",
      "File 16/22: https://download.bls.gov/pub/time.series/ei/ei.data.13.ServicesOutbound\n",
      "File 17/22: https://download.bls.gov/pub/time.series/ei/ei.footnote\n",
      "File 18/22: https://download.bls.gov/pub/time.series/ei/ei.index\n",
      "File 19/22: https://download.bls.gov/pub/time.series/ei/ei.period\n",
      "File 20/22: https://download.bls.gov/pub/time.series/ei/ei.seasonal\n",
      "File 21/22: https://download.bls.gov/pub/time.series/ei/ei.series\n",
      "File 22/22: https://download.bls.gov/pub/time.series/ei/ei.txt\n",
      "Download is complete. Length of dictionary is 992 entries.\n",
      "Successfully mapped series ids to names.\n",
      "CLEANING DATA...\n",
      "DATA CLEANED!\n"
     ]
    }
   ],
   "source": [
    "m.makeSmallDatabase()\n",
    "m.updateSqlDB()"
   ]
  },
  {
   "cell_type": "code",
   "execution_count": 3,
   "metadata": {},
   "outputs": [],
   "source": [
    "db, cursor = m.connectToSqlServer()"
   ]
  },
  {
   "cell_type": "code",
   "execution_count": 10,
   "metadata": {},
   "outputs": [
    {
     "data": {
      "text/plain": [
       "85"
      ]
     },
     "execution_count": 10,
     "metadata": {},
     "output_type": "execute_result"
    }
   ],
   "source": [
    "cursor.execute(\"SELECT * From Observations WHERE ID = %s;\", 'EIUCOUKZ333')"
   ]
  },
  {
   "cell_type": "code",
   "execution_count": 11,
   "metadata": {},
   "outputs": [],
   "source": [
    "result = cursor.fetchall()"
   ]
  },
  {
   "cell_type": "code",
   "execution_count": 12,
   "metadata": {},
   "outputs": [
    {
     "data": {
      "text/plain": [
       "(('EIUCOUKZ333', '06/2012', '100'),\n",
       " ('EIUCOUKZ333', '07/2012', '99.5'),\n",
       " ('EIUCOUKZ333', '08/2012', '98.4'),\n",
       " ('EIUCOUKZ333', '09/2012', '98.8'),\n",
       " ('EIUCOUKZ333', '10/2012', '99.4'),\n",
       " ('EIUCOUKZ333', '11/2012', '99.3'),\n",
       " ('EIUCOUKZ333', '12/2012', '99.2'),\n",
       " ('EIUCOUKZ333', '01/2013', '98.7'),\n",
       " ('EIUCOUKZ333', '02/2013', '98.4'),\n",
       " ('EIUCOUKZ333', '03/2013', '97.9'),\n",
       " ('EIUCOUKZ333', '04/2013', '97.5'),\n",
       " ('EIUCOUKZ333', '05/2013', '99.1'),\n",
       " ('EIUCOUKZ333', '06/2013', '99.1'),\n",
       " ('EIUCOUKZ333', '07/2013', '99.4'),\n",
       " ('EIUCOUKZ333', '08/2013', '98.9'),\n",
       " ('EIUCOUKZ333', '09/2013', '99.2'),\n",
       " ('EIUCOUKZ333', '10/2013', '100.8'),\n",
       " ('EIUCOUKZ333', '11/2013', '101.5'),\n",
       " ('EIUCOUKZ333', '12/2013', '101.5'),\n",
       " ('EIUCOUKZ333', '01/2014', '101.8'),\n",
       " ('EIUCOUKZ333', '02/2014', '102'),\n",
       " ('EIUCOUKZ333', '03/2014', '102.1'),\n",
       " ('EIUCOUKZ333', '04/2014', '102.6'),\n",
       " ('EIUCOUKZ333', '05/2014', '103.3'),\n",
       " ('EIUCOUKZ333', '06/2014', '103.4'),\n",
       " ('EIUCOUKZ333', '07/2014', '103.7'),\n",
       " ('EIUCOUKZ333', '08/2014', '103.5'),\n",
       " ('EIUCOUKZ333', '09/2014', '102.8'),\n",
       " ('EIUCOUKZ333', '10/2014', '102.6'),\n",
       " ('EIUCOUKZ333', '11/2014', '102.5'),\n",
       " ('EIUCOUKZ333', '12/2014', '102.3'),\n",
       " ('EIUCOUKZ333', '01/2015', '101.8'),\n",
       " ('EIUCOUKZ333', '02/2015', '100.6'),\n",
       " ('EIUCOUKZ333', '03/2015', '101.5'),\n",
       " ('EIUCOUKZ333', '04/2015', '101.3'),\n",
       " ('EIUCOUKZ333', '05/2015', '101.3'),\n",
       " ('EIUCOUKZ333', '06/2015', '101.8'),\n",
       " ('EIUCOUKZ333', '07/2015', '101.9'),\n",
       " ('EIUCOUKZ333', '08/2015', '101.8'),\n",
       " ('EIUCOUKZ333', '09/2015', '102'),\n",
       " ('EIUCOUKZ333', '10/2015', '102'),\n",
       " ('EIUCOUKZ333', '11/2015', '101.9'),\n",
       " ('EIUCOUKZ333', '12/2015', '101.9'),\n",
       " ('EIUCOUKZ333', '01/2016', '102.6'),\n",
       " ('EIUCOUKZ333', '02/2016', '102.6'),\n",
       " ('EIUCOUKZ333', '03/2016', '102.8'),\n",
       " ('EIUCOUKZ333', '04/2016', '102.8'),\n",
       " ('EIUCOUKZ333', '05/2016', '102.9'),\n",
       " ('EIUCOUKZ333', '06/2016', '102.9'),\n",
       " ('EIUCOUKZ333', '07/2016', '103.1'),\n",
       " ('EIUCOUKZ333', '08/2016', '102.9'),\n",
       " ('EIUCOUKZ333', '09/2016', '103'),\n",
       " ('EIUCOUKZ333', '10/2016', '103'),\n",
       " ('EIUCOUKZ333', '11/2016', '102.9'),\n",
       " ('EIUCOUKZ333', '12/2016', '102.9'),\n",
       " ('EIUCOUKZ333', '01/2017', '102.9'),\n",
       " ('EIUCOUKZ333', '02/2017', '102.8'),\n",
       " ('EIUCOUKZ333', '03/2017', '102.9'),\n",
       " ('EIUCOUKZ333', '04/2017', '103'),\n",
       " ('EIUCOUKZ333', '05/2017', '103'),\n",
       " ('EIUCOUKZ333', '06/2017', '103.1'),\n",
       " ('EIUCOUKZ333', '07/2017', '103.1'),\n",
       " ('EIUCOUKZ333', '08/2017', '103.1'),\n",
       " ('EIUCOUKZ333', '09/2017', '103.1'),\n",
       " ('EIUCOUKZ333', '10/2017', '103.2'),\n",
       " ('EIUCOUKZ333', '11/2017', '103.1'),\n",
       " ('EIUCOUKZ333', '12/2017', '103.1'),\n",
       " ('EIUCOUKZ333', '01/2018', '102.8'),\n",
       " ('EIUCOUKZ333', '02/2018', '103.3'),\n",
       " ('EIUCOUKZ333', '03/2018', '103.4'),\n",
       " ('EIUCOUKZ333', '04/2018', '103.8'),\n",
       " ('EIUCOUKZ333', '05/2018', '103.4'),\n",
       " ('EIUCOUKZ333', '06/2018', '103.5'),\n",
       " ('EIUCOUKZ333', '07/2018', '103.8'),\n",
       " ('EIUCOUKZ333', '08/2018', '103.8'),\n",
       " ('EIUCOUKZ333', '09/2018', '103.9'),\n",
       " ('EIUCOUKZ333', '10/2018', '103.8'),\n",
       " ('EIUCOUKZ333', '11/2018', '104.4'),\n",
       " ('EIUCOUKZ333', '12/2018', '105'),\n",
       " ('EIUCOUKZ333', '01/2019', '107'),\n",
       " ('EIUCOUKZ333', '02/2019', '106.9'),\n",
       " ('EIUCOUKZ333', '03/2019', '106.9'),\n",
       " ('EIUCOUKZ333', '04/2019', '107'),\n",
       " ('EIUCOUKZ333', '05/2019', '107'),\n",
       " ('EIUCOUKZ333', '06/2019', '107.1'))"
      ]
     },
     "execution_count": 12,
     "metadata": {},
     "output_type": "execute_result"
    }
   ],
   "source": [
    "result"
   ]
  },
  {
   "cell_type": "code",
   "execution_count": null,
   "metadata": {},
   "outputs": [],
   "source": []
  }
 ],
 "metadata": {
  "kernelspec": {
   "display_name": "Python 3",
   "language": "python",
   "name": "python3"
  },
  "language_info": {
   "codemirror_mode": {
    "name": "ipython",
    "version": 3
   },
   "file_extension": ".py",
   "mimetype": "text/x-python",
   "name": "python",
   "nbconvert_exporter": "python",
   "pygments_lexer": "ipython3",
   "version": "3.6.5"
  }
 },
 "nbformat": 4,
 "nbformat_minor": 2
}
